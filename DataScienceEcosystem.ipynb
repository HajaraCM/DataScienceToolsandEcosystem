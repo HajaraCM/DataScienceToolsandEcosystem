{
 "cells": [
  {
   "cell_type": "markdown",
   "id": "04bc75ba",
   "metadata": {},
   "source": [
    "# Data Science Tools and Ecosystem"
   ]
  },
  {
   "cell_type": "markdown",
   "id": "549b3b55",
   "metadata": {},
   "source": [
    "In this notebook, Data Science Tools and Ecosystem are summarized. this notebook is created by Hajara as assignment from IBM."
   ]
  },
  {
   "cell_type": "markdown",
   "id": "66f991e4",
   "metadata": {},
   "source": [
    "Some of the popular languages that Data Scientists use are:\n",
    "1. Python\n",
    "2. R\n",
    "3. SQL\n",
    "4. Scala\n",
    "5. Java"
   ]
  },
  {
   "cell_type": "markdown",
   "id": "7662b9e6",
   "metadata": {},
   "source": [
    "Some of the commonly used libraries used by Data Scientists include:\n",
    "1. Pandas\n",
    "2. NumPy\n",
    "3. SciPy\n",
    "4. Matplotlib\n",
    "5. Pytorch\n",
    "6. Tensorflow\n",
    "7. Scikit-learn"
   ]
  },
  {
   "cell_type": "markdown",
   "id": "85168d99",
   "metadata": {},
   "source": [
    "| Data Science Tools |\n",
    "|:-------------------|\n",
    "| Jupyter Notebook |\n",
    "| RStudio |\n",
    "| Apache Zeppelin|"
   ]
  },
  {
   "cell_type": "markdown",
   "id": "94cc5169",
   "metadata": {},
   "source": [
    "### Below are a few examples of evaluating arithmetic expressions in Python\n"
   ]
  },
  {
   "cell_type": "code",
   "execution_count": 3,
   "id": "c1f5b5d8",
   "metadata": {},
   "outputs": [
    {
     "name": "stdout",
     "output_type": "stream",
     "text": [
      "17\n",
      "True\n"
     ]
    }
   ],
   "source": [
    "#This a simple arithmetic expression to mutiply then add integers\n",
    "\n",
    "x=(3*4)+5\n",
    "print(x)\n",
    "print(x==17)"
   ]
  },
  {
   "cell_type": "code",
   "execution_count": 4,
   "id": "a353c3d3",
   "metadata": {},
   "outputs": [
    {
     "name": "stdout",
     "output_type": "stream",
     "text": [
      "3.3333333333333335\n"
     ]
    }
   ],
   "source": [
    "#This will convert 200 minutes to hours by diving by 60\n",
    "conv= 200/60 \n",
    "print(conv)"
   ]
  },
  {
   "cell_type": "markdown",
   "id": "ac6956d9",
   "metadata": {},
   "source": [
    "**Objectives:**\n",
    "    \n",
    "   - List popular languages for Data Science\n",
    "   - List commonly used libraries\n",
    "   - Simple arithmetic examples in python"
   ]
  },
  {
   "cell_type": "markdown",
   "id": "58729bd5",
   "metadata": {},
   "source": [
    "## Author\n",
    "\n",
    "Hajara CM"
   ]
  },
  {
   "cell_type": "code",
   "execution_count": null,
   "id": "1b6d05cd",
   "metadata": {},
   "outputs": [],
   "source": []
  }
 ],
 "metadata": {
  "kernelspec": {
   "display_name": "Python 3 (ipykernel)",
   "language": "python",
   "name": "python3"
  },
  "language_info": {
   "codemirror_mode": {
    "name": "ipython",
    "version": 3
   },
   "file_extension": ".py",
   "mimetype": "text/x-python",
   "name": "python",
   "nbconvert_exporter": "python",
   "pygments_lexer": "ipython3",
   "version": "3.9.13"
  }
 },
 "nbformat": 4,
 "nbformat_minor": 5
}
